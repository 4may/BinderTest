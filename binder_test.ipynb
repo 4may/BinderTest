{
  "nbformat": 4,
  "nbformat_minor": 0,
  "metadata": {
    "colab": {
      "name": "binder_test.ipynb",
      "provenance": [],
      "authorship_tag": "ABX9TyPLYFwKiZ/cdzJg6ynluYa1",
      "include_colab_link": true
    },
    "kernelspec": {
      "name": "python3",
      "display_name": "Python 3"
    }
  },
  "cells": [
    {
      "cell_type": "markdown",
      "metadata": {
        "id": "view-in-github",
        "colab_type": "text"
      },
      "source": [
        "<a href=\"https://colab.research.google.com/github/4may/BinderTest/blob/master/binder_test.ipynb\" target=\"_parent\"><img src=\"https://colab.research.google.com/assets/colab-badge.svg\" alt=\"Open In Colab\"/></a>"
      ]
    },
    {
      "cell_type": "markdown",
      "metadata": {
        "id": "w6o58M6URgOa",
        "colab_type": "text"
      },
      "source": [
        "binderを動かしてみよう。"
      ]
    },
    {
      "cell_type": "code",
      "metadata": {
        "id": "sBACouP7Rart",
        "colab_type": "code",
        "colab": {}
      },
      "source": [
        "import numpy as np"
      ],
      "execution_count": 0,
      "outputs": []
    },
    {
      "cell_type": "code",
      "metadata": {
        "id": "-tARa5XMRl5b",
        "colab_type": "code",
        "outputId": "fe094c15-76f0-4ac1-c564-e095d72850a5",
        "colab": {
          "base_uri": "https://localhost:8080/",
          "height": 34
        }
      },
      "source": [
        "numbers = np.random.randint(low=0, high=10, size=10)\n",
        "numbers"
      ],
      "execution_count": 0,
      "outputs": [
        {
          "output_type": "execute_result",
          "data": {
            "text/plain": [
              "array([7, 9, 1, 1, 7, 9, 8, 2, 7, 2])"
            ]
          },
          "metadata": {
            "tags": []
          },
          "execution_count": 2
        }
      ]
    }
  ]
}